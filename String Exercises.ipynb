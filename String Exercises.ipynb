{
 "cells": [
  {
   "cell_type": "markdown",
   "id": "fdaa308a-751d-4381-8ea4-ee9fb53aa89a",
   "metadata": {},
   "source": [
    "## [PyNative.com](pynative.com/python-string-exercise) String Exercises"
   ]
  },
  {
   "cell_type": "markdown",
   "id": "ac44a7ed-f19b-48d4-854a-16dd361d6366",
   "metadata": {},
   "source": [
    "### <h3 style = \"color: blue\">Exercise 1A: <h3> Create a string made of the first, middle and last character\n"
   ]
  },
  {
   "cell_type": "code",
   "execution_count": null,
   "id": "a4dace8a-03b1-4a84-800f-f8fa27521223",
   "metadata": {},
   "outputs": [],
   "source": [
    "def new_string(inp_str):\n",
    "    midd = int(len(inp_str)//2)\n",
    "    new_str = inp_str[0]\n",
    "    new_str = new_str  + inp_str[midd]\n",
    "    new_str = new_str + inp_str[-1]\n",
    "    # It somehow didn't work when I did new_str = inp_str[0, midd, -1]\n",
    "    return new_str\n",
    "\n",
    "print(new_string(\"James\"))\n"
   ]
  },
  {
   "cell_type": "markdown",
   "id": "963d31d1-964b-46c2-8e44-3166a3e875fa",
   "metadata": {},
   "source": [
    "### Exercise 1B: Create a string made of the middle three characters"
   ]
  },
  {
   "cell_type": "code",
   "execution_count": null,
   "id": "1fee1bff-0d5a-4093-b650-389b6a0ef59c",
   "metadata": {},
   "outputs": [],
   "source": [
    "def middle3(inp_string):\n",
    "    middle = len(inp_string)//2\n",
    "    new_string = inp_string[middle - 1]\n",
    "    new_string = new_string + inp_string[middle]\n",
    "    new_string = new_string + inp_string[middle + 1]\n",
    "    return new_string\n",
    "print(middle3(\"JhonDipPeta\"))\n",
    "print(middle3(\"JaSonAy\"))\n",
    "    "
   ]
  },
  {
   "cell_type": "markdown",
   "id": "115296b6-9119-4738-af3f-a2601d61cfbe",
   "metadata": {},
   "source": [
    "### Exercise 2: Append new string in the middle of a given string"
   ]
  },
  {
   "cell_type": "code",
   "execution_count": null,
   "id": "b73e83a9-ca05-483e-96c3-2d8f2a3da655",
   "metadata": {},
   "outputs": [],
   "source": [
    "def append_string(s1, s2):\n",
    "    middle = int(len(s1)/2)\n",
    "    x = s1[:middle]\n",
    "    x += s2\n",
    "    x += s1[middle:]\n",
    "    return x\n",
    "\n",
    "\n",
    "print(append_string(\"ault\", \"kelly\"))"
   ]
  },
  {
   "cell_type": "markdown",
   "id": "370af747-e2d0-4097-a557-52a4f9f40feb",
   "metadata": {},
   "source": [
    "### Exercise 3: Create a new string made of the first, middle, and last characters of each input string"
   ]
  },
  {
   "cell_type": "code",
   "execution_count": null,
   "id": "b9dd9b0c-65bb-4d63-9ea6-a63cb0d1befd",
   "metadata": {},
   "outputs": [],
   "source": [
    "def merge(s1, s2):\n",
    "    middle1 = int(len(s1)/2)\n",
    "    middle2 = int(len(s2)/2)\n",
    "    new_string = s1[0]+s2[0]\n",
    "    new_string += s1[middle1] + s2[middle2]\n",
    "    new_string += s1[-1] + s2[-1]\n",
    "    return new_string\n",
    "\n",
    "print(merge(\"America\", \"Japan\"))"
   ]
  },
  {
   "cell_type": "markdown",
   "id": "acbc0210-0bdd-41f1-a81f-878eb136ad5c",
   "metadata": {},
   "source": [
    "### Exercise 4: Arrange string characters such that lowercase letters should come first"
   ]
  },
  {
   "cell_type": "code",
   "execution_count": null,
   "id": "4f751e55-3a35-4410-bf0d-a492c9937cf8",
   "metadata": {},
   "outputs": [],
   "source": [
    "x = \"pyNAtivE\"\n",
    "def case_order(st):\n",
    "    new_st = ''\n",
    "    for char in st:\n",
    "        if char.lower() == char:\n",
    "            new_st += char\n",
    "    for char in st:\n",
    "        if char.upper() == char:\n",
    "            new_st += char\n",
    "    return new_st\n",
    "print(case_order(\"PyNaTive\"))"
   ]
  },
  {
   "cell_type": "markdown",
   "id": "498206cb-aae3-4328-8ec1-f281d10bfc60",
   "metadata": {},
   "source": [
    "### Exercise 5: Count all letters, digits, and special symbols from a given string"
   ]
  },
  {
   "cell_type": "code",
   "execution_count": null,
   "id": "948971af-8950-43df-9aca-329e9b820d10",
   "metadata": {},
   "outputs": [],
   "source": [
    "import string\n",
    "def counter(st):\n",
    "    Letters = 0\n",
    "    Digits = 0\n",
    "    Symbols = 0\n",
    "    for char in st:\n",
    "        if char in string.ascii_lowercase or char in string.ascii_uppercase:\n",
    "            Letters += 1\n",
    "#        Better way would be to use isalpha and is isdigit\n",
    "        elif char in '0123456789':\n",
    "            Digits += 1\n",
    "        elif char in string.punctuation:\n",
    "            Symbols += 1\n",
    "    return Letters, Digits, Symbols\n",
    "\n",
    "print(\"Letters: \", counter(\"P@#yn26at^&i5ve\")[0], '\\n',\n",
    "     \"Digits: \", counter(\"P@#yn26at^&i5ve\")[1], '\\n',\n",
    "     \"Symbols: \", counter(\"P@#yn26at^&i5ve\")[2], '\\n',)"
   ]
  },
  {
   "cell_type": "markdown",
   "id": "2746e0d0-9a1c-41f2-8ad8-91f29ea7e4e4",
   "metadata": {},
   "source": [
    "### Exercise 6: Create a mixed String using the following rules"
   ]
  },
  {
   "cell_type": "code",
   "execution_count": null,
   "id": "ef122810-74fb-4915-8022-6cb4f7e6101c",
   "metadata": {},
   "outputs": [],
   "source": [
    "def mixString(s1, s2):\n",
    "    new_string  = ''\n",
    "    s1_length = len(s1)\n",
    "    s2_length = len(s2)\n",
    "    i=0\n",
    "    s2 = s2[::-1]\n",
    "    length = s1_length if s1_length>s2_length else s2_length\n",
    "    while i != length:\n",
    "        if i < s1_length:\n",
    "            new_string += s1[i]\n",
    "        if i < s2_length:\n",
    "            new_string += s2[i]\n",
    "        i += 1\n",
    "    return new_string\n",
    "print(mixString(\"Abc\", \"Xyz\"))"
   ]
  },
  {
   "cell_type": "markdown",
   "id": "49ad7786-9a2a-44e3-bc77-167c2ce1e1ac",
   "metadata": {},
   "source": [
    "### Exercise 7: String characters balance Test"
   ]
  },
  {
   "cell_type": "code",
   "execution_count": null,
   "id": "93df98fe-2384-402a-bf8b-f5ccc733a9bc",
   "metadata": {},
   "outputs": [],
   "source": [
    "def char_balance(s1, s2):\n",
    "    count = 0\n",
    "    for char in s1:\n",
    "        if char in s2:\n",
    "            count += 1\n",
    "    result = True if count == len(s1) else False\n",
    "    # Turns out one-line if statement doesnt work with return statement\n",
    "    return result\n",
    "\n",
    "\n",
    "print(char_balance(\"Ynf\",\"PYnative\"))"
   ]
  },
  {
   "cell_type": "markdown",
   "id": "2f5c166c-a0bf-49f4-b523-60605684a764",
   "metadata": {},
   "source": [
    "### Exercise 8: Find all occurrences of a substring in a given string by ignoring the case"
   ]
  },
  {
   "cell_type": "code",
   "execution_count": null,
   "id": "89a49863-46ee-4139-876c-5182656bff8c",
   "metadata": {},
   "outputs": [],
   "source": [
    "def find_all_occ(str1, str2):\n",
    "    str1 = str1.lower()\n",
    "    str2 = str2.lower()\n",
    "    result = 0\n",
    "    while str1.find(str2) != -1:\n",
    "        point = str1.find(str2)+len(str2)\n",
    "        result += 1\n",
    "        str1 = str1[point:]\n",
    "    return (result)\n",
    "str1 = \"Welcome to USA. usa awesome, isn't it to?\"\n",
    "str2 = \"TO\"\n",
    "print(find_all_occ(str1, str2))\n",
    "\n",
    "# Above is my solution without knowing the count method :) here comes the actual solution\n",
    "\n",
    "\n",
    "# str1 = \"Welcome to USA. usa awesome, isn't it?\"\n",
    "# sub_string = \"USA\"\n",
    "# temp_str = str1.lower()\n",
    "# count = temp_str.count(sub_string.lower())\n",
    "# print(\"The USA count is:\", count)"
   ]
  },
  {
   "cell_type": "markdown",
   "id": "68da5b01-0459-4600-9721-5e71f1bb42d2",
   "metadata": {},
   "source": [
    "### <h3 style = \"color: blue\"> Exercise 9:<h3> Calculate the sum and average of the digits present in a string"
   ]
  },
  {
   "cell_type": "code",
   "execution_count": null,
   "id": "6dd9731f-edc6-4f55-b7f9-3af568de3626",
   "metadata": {},
   "outputs": [],
   "source": [
    "def sum_av(st):\n",
    "    as_list = []\n",
    "    for char in st:\n",
    "        if char.isdigit():\n",
    "            as_list.append(int(char))\n",
    "    summ = sum(as_list)\n",
    "    ave = summ/len(as_list)\n",
    "    return summ, ave"
   ]
  },
  {
   "cell_type": "markdown",
   "id": "401f96d3-605f-472a-a573-422e7d9bb633",
   "metadata": {},
   "source": [
    "<h3 style = \"color: blue\">Exercise 10:<h3> Write a program to count occurrences of all characters within a string"
   ]
  },
  {
   "cell_type": "code",
   "execution_count": null,
   "id": "adc5358f-2fc9-4b72-bb15-d7f6f96301e8",
   "metadata": {},
   "outputs": [],
   "source": [
    "def count_occ(st):\n",
    "    set1 = set(st)\n",
    "    count = 0\n",
    "    the_dict = {}\n",
    "    for item in set1:\n",
    "        for char in st:\n",
    "            if item == char:\n",
    "                count += 1\n",
    "        the_dict[item]=count\n",
    "        count = 0\n",
    "    return( the_dict)\n",
    "count_occ(\"Apple\")"
   ]
  },
  {
   "cell_type": "markdown",
   "id": "5d83ca68-f14d-4ea3-8089-1416745812fb",
   "metadata": {},
   "source": [
    "<h3 style = \"color: blue\">Exercise 11:<h3> Reverse a given string"
   ]
  },
  {
   "cell_type": "code",
   "execution_count": null,
   "id": "c6b3cef2-7101-43fc-87b7-f494cabe3dbb",
   "metadata": {},
   "outputs": [],
   "source": [
    "def reverser(st):\n",
    "    st1 = st[::-1]\n",
    "    return st1"
   ]
  },
  {
   "cell_type": "markdown",
   "id": "128a3802-ce62-423f-af80-d66227a34e2c",
   "metadata": {},
   "source": [
    "<h3 style = \"color: blue\">Exercise 12:<h3> Find the last position of a given substring"
   ]
  },
  {
   "cell_type": "code",
   "execution_count": null,
   "id": "f32caf7f-28a5-44cb-88fe-98e3d8f58990",
   "metadata": {},
   "outputs": [],
   "source": [
    "str1 = \"Emma is a data scientist who knows Python. sfdffsEmma works at google.\"\n",
    "\n",
    "def find_last(st1, st2):\n",
    "    st1 = st1[::-1]\n",
    "    st2 = st2[::-1]\n",
    "    return (len(st1)-st1.find(st2)-len(st2))"
   ]
  },
  {
   "cell_type": "markdown",
   "id": "aa36d4c3-876b-4103-ba47-ff1709856f9e",
   "metadata": {},
   "source": [
    "#### I had no idea the that there was a string method called [rfind()](https://www.w3schools.com/python/ref_string_rfind.asp) ))"
   ]
  },
  {
   "cell_type": "markdown",
   "id": "e4d4d8bf-d4b4-428d-9ba4-f71ebc099d9a",
   "metadata": {},
   "source": [
    "<h3 style = \"color: blue\">Exercise 13:<h3> Split a string on hyphens "
   ]
  },
  {
   "cell_type": "code",
   "execution_count": null,
   "id": "bbb3de92-0f01-4e20-81a3-bcb74163dc4f",
   "metadata": {},
   "outputs": [],
   "source": [
    "str1 = \"Emma-is-a-data-scientist\"\n",
    "def splitter(st):\n",
    "    return st.replace(\"-\", \"\\n\") #this changes the string\n",
    "    #return st.split(\"-\") whereas this creates a new list\n",
    "splitter(str1)"
   ]
  },
  {
   "cell_type": "markdown",
   "id": "f02f8116-0967-4955-99a8-c656e9a87c88",
   "metadata": {},
   "source": [
    "<h3 style = \"color: blue\">Exercise 14:<h3> Remove empty strings from a list of strings"
   ]
  },
  {
   "cell_type": "code",
   "execution_count": 44,
   "id": "08556342-176c-46d5-bba9-d9d5f0c8c65d",
   "metadata": {},
   "outputs": [
    {
     "name": "stdout",
     "output_type": "stream",
     "text": [
      "['Emma', 'Jon', 'Kelly', None, 'Eric']\n"
     ]
    }
   ],
   "source": [
    "str_list = [\"Emma\", \"Jon\", \"\", \"Kelly\", None, \"Eric\", \"\"]\n",
    "while \"\" in str_list:\n",
    "    str_list.remove(\"\")\n",
    "print(str_list)"
   ]
  },
  {
   "cell_type": "markdown",
   "id": "da061f99-9a4b-400c-a155-a94265a8c090",
   "metadata": {},
   "source": [
    "##### Using filter() is another option"
   ]
  },
  {
   "cell_type": "code",
   "execution_count": 46,
   "id": "e8bde19c-638f-49c3-8b67-ba8de349525c",
   "metadata": {},
   "outputs": [
    {
     "name": "stdout",
     "output_type": "stream",
     "text": [
      "After removing empty strings\n",
      "['Emma', 'Jon', 'Kelly', 'Eric']\n"
     ]
    }
   ],
   "source": [
    "str_list = [\"Emma\", \"Jon\", \"\", \"Kelly\", None, \"Eric\", \"\"]\n",
    "\n",
    "# use built-in function filter to filter empty value\n",
    "new_str_list = list(filter(None, str_list))\n",
    "\n",
    "print(\"After removing empty strings\")\n",
    "print(new_str_list)"
   ]
  },
  {
   "cell_type": "markdown",
   "id": "3248e6e4-e8de-4d4f-841f-9d32431cf9bf",
   "metadata": {},
   "source": [
    "##### As __bool(\"\")__ or __bool(None)__ equals False, we can use this code too"
   ]
  },
  {
   "cell_type": "code",
   "execution_count": 48,
   "id": "ae0e3e26-5278-4eb1-b66e-daaaf68a32ef",
   "metadata": {},
   "outputs": [
    {
     "name": "stdout",
     "output_type": "stream",
     "text": [
      "['Emma', 'Jon', 'Kelly', 'Eric']\n"
     ]
    }
   ],
   "source": [
    "str_list = [\"Emma\", \"Jon\", \"\", \"Kelly\", None, \"Eric\", \"\"]\n",
    "res_list = []\n",
    "for s in str_list:\n",
    "    # check for non empty string\n",
    "    if s:\n",
    "        res_list.append(s)\n",
    "print(res_list)"
   ]
  },
  {
   "cell_type": "markdown",
   "id": "2e72d6c4-7203-44f0-95bf-4069da86713d",
   "metadata": {},
   "source": [
    "<h3 style = \"color: blue\">Exercise 15:<h3>Remove special symbols / punctuation from a string"
   ]
  },
  {
   "cell_type": "code",
   "execution_count": 53,
   "id": "48bb1f53-19de-489e-a886-a3c31826906a",
   "metadata": {},
   "outputs": [],
   "source": [
    "import string\n",
    "def remove_punc(str1):\n",
    "    new = str1.translate(str1.maketrans('', '', string.punctuation))\n",
    "    return (new)"
   ]
  },
  {
   "cell_type": "markdown",
   "id": "12ac0f39-5ba4-4c64-ada4-2746623f0df0",
   "metadata": {},
   "source": [
    "##### __translate()__ returns a string where some characters are replaced as described in a dictionary or a mapping table <br> __maketrans()__ creates mapping table"
   ]
  },
  {
   "cell_type": "markdown",
   "id": "65d97001-b1ad-491f-9217-55c20ef613f3",
   "metadata": {},
   "source": [
    "<h3 style = \"color: blue\">Exercise 16:<h3> Removal all characters from a string except integers"
   ]
  },
  {
   "cell_type": "code",
   "execution_count": 63,
   "id": "843b4c27-2e58-49f7-9d45-5c8f967f6a40",
   "metadata": {},
   "outputs": [
    {
     "name": "stdout",
     "output_type": "stream",
     "text": [
      "2510\n"
     ]
    }
   ],
   "source": [
    "import string \n",
    "alphabet = string.ascii_lowercase + string.ascii_uppercase\n",
    "def remove_punc(str1):\n",
    "    new = str1.translate(str1.maketrans('', '', string.punctuation))\n",
    "    return (new)\n",
    "\n",
    "def remove_except_int(st):\n",
    "    new = remove_punc(st)\n",
    "    new = new.translate(new.maketrans(\"\",\"\", alphabet))\n",
    "    new = new.translate(new.maketrans(\"\", \"\", \" \"))\n",
    "    return new\n",
    "print(remove_except_int('I am 25 years and 10 months old'))"
   ]
  },
  {
   "cell_type": "markdown",
   "id": "fd8ca905-6b4f-4e7d-b558-6fa46e073bb7",
   "metadata": {},
   "source": [
    "<h3 style = \"color: blue\">Exercise 17:<h3> Find words with both alphabets and numbers\n"
   ]
  },
  {
   "cell_type": "code",
   "execution_count": 72,
   "id": "fb682b4d-1a62-4632-8746-d97de26807fd",
   "metadata": {},
   "outputs": [],
   "source": [
    "import string\n",
    "\n",
    "\n",
    "alpha = string.ascii_lowercase + string.ascii_uppercase \n",
    "digits = \"0987654321\"\n",
    "\n",
    "def check_char(st):\n",
    "    count = 0\n",
    "    for char in st:\n",
    "        if char in alpha:\n",
    "            count += 1\n",
    "    if count != 0:\n",
    "        return True\n",
    "    \n",
    "def check_dig(st):\n",
    "    count = 0\n",
    "    for char in st:\n",
    "        if char in digits:\n",
    "            count += 1\n",
    "    if count != 0:\n",
    "        return True\n",
    "\n",
    "def char_dig(st):\n",
    "    li = st.split()\n",
    "    result = []\n",
    "    for item in li:\n",
    "        if check_char(item) and check_dig(item):\n",
    "            result.append(item)\n",
    "    return result"
   ]
  },
  {
   "cell_type": "markdown",
   "id": "076855c2-e9fa-4746-971b-7bdd911be568",
   "metadata": {},
   "source": [
    "##### The usage of [any()](https://www.w3schools.com/python/ref_func_any.asp) appeared new to me. Another great feature of Python."
   ]
  },
  {
   "cell_type": "code",
   "execution_count": null,
   "id": "0a0f2586-3b53-4af9-a9ad-51accc8bbc71",
   "metadata": {},
   "outputs": [],
   "source": [
    "str1 = \"Emma25 is Data scientist50 and AI Expert\"\n",
    "print(\"The original string is : \" + str1)\n",
    "\n",
    "res = []\n",
    "# split string on whitespace\n",
    "temp = str1.split()\n",
    "\n",
    "# Words with both alphabets and numbers\n",
    "# isdigit() for numbers + isalpha() for alphabets\n",
    "# use any() to check each character\n",
    "\n",
    "for item in temp:\n",
    "    if any(char.isalpha() for char in item) and any(char.isdigit() for char in item):\n",
    "        res.append(item)\n",
    "\n",
    "print(\"Displaying words with alphabets and numbers\")\n",
    "for i in res:\n",
    "    print(i)"
   ]
  },
  {
   "cell_type": "markdown",
   "id": "bcf01120-8714-4009-aa29-03aea6af7bb2",
   "metadata": {},
   "source": [
    "<h3 style = \"color: blue\">Exercise 18:<h3> Replace each special symbol with # in the following string"
   ]
  },
  {
   "cell_type": "code",
   "execution_count": 75,
   "id": "cc04406e-178e-4745-be39-c10d87fabda7",
   "metadata": {},
   "outputs": [
    {
     "name": "stdout",
     "output_type": "stream",
     "text": [
      "##Jon is #developer # musician##\n"
     ]
    }
   ],
   "source": [
    "import string\n",
    "def punc_with_hash(st):\n",
    "    for char in string.punctuation:\n",
    "        st = st.replace(char, \"#\")\n",
    "    return st\n",
    "print(punc_with_hash('/*Jon is @developer & musician!!'))"
   ]
  },
  {
   "cell_type": "markdown",
   "id": "eb1bd802-6523-450b-9b2e-2091d632b5ee",
   "metadata": {},
   "source": [
    "#### A new way of iteration where the iterable is not changed."
   ]
  },
  {
   "cell_type": "code",
   "execution_count": null,
   "id": "9f40f124-2d47-46db-ad08-4416a62f96a7",
   "metadata": {},
   "outputs": [],
   "source": []
  }
 ],
 "metadata": {
  "kernelspec": {
   "display_name": "Python 3 (ipykernel)",
   "language": "python",
   "name": "python3"
  },
  "language_info": {
   "codemirror_mode": {
    "name": "ipython",
    "version": 3
   },
   "file_extension": ".py",
   "mimetype": "text/x-python",
   "name": "python",
   "nbconvert_exporter": "python",
   "pygments_lexer": "ipython3",
   "version": "3.10.6"
  }
 },
 "nbformat": 4,
 "nbformat_minor": 5
}
